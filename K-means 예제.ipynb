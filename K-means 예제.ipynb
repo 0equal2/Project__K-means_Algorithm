{
 "cells": [
  {
   "cell_type": "code",
   "execution_count": 8,
   "metadata": {},
   "outputs": [
    {
     "name": "stdout",
     "output_type": "stream",
     "text": [
      "[6, 29, 10, 7, 28, 4, 5, 27, 20, 29, 21, 20, 22, 2, 4, 25, 26, 4, 10, 1, 22, 21, 10, 0, 21, 8, 0, 26, 10, 30, 0, 3, 25, 28, 29, 2, 26, 9, 1, 1, 10, 22, 9, 3, 6, 5, 21, 28, 24, 30]\n",
      "[8, 20, 1, 9, 29, 5, 6, 24, 24, 29, 30, 23, 23, 2, 6, 22, 28, 8, 1, 1, 21, 27, 9, 0, 30, 5, 7, 23, 2, 23, 8, 9, 22, 21, 22, 6, 20, 4, 2, 3, 4, 27, 0, 8, 7, 1, 27, 30, 25, 24]\n"
     ]
    }
   ],
   "source": [
    "#평면상의 점으로 기본적인 K-means 구현\n",
    "from random import *\n",
    "\n",
    "#1. Data 생성\n",
    "#임으로 (0<=x<=10 , 0<=y<=10) or (20<=x<=30, 20<=y<=30)에 점 50개 생성\n",
    "n=50\n",
    "x_values=[]\n",
    "y_values=[]\n",
    "\n",
    "for i in range(n):\n",
    "    choose=randrange(2)\n",
    "    x=0\n",
    "    y=0\n",
    "    \n",
    "    if choose==0:\n",
    "        x=randint(0,10)\n",
    "        y=randint(0,10)\n",
    "        \n",
    "    else:\n",
    "        x=randint(20,30)\n",
    "        y=randint(20,30)\n",
    "        \n",
    "    x_values.append(x)\n",
    "    y_values.append(y)\n",
    "    \n",
    "print(x_values)\n",
    "print(y_values)"
   ]
  },
  {
   "cell_type": "code",
   "execution_count": 9,
   "metadata": {},
   "outputs": [
    {
     "data": {
      "image/png": "[encoded data removed]",
      "text/plain": [
       "<Figure size 432x288 with 1 Axes>"
      ]
     },
     "metadata": {
      "needs_background": "light"
     },
     "output_type": "display_data"
    }
   ],
   "source": [
    "#2. K-means 클러스터링 시작 \n",
    "#2-a. 좌표에 data 확인\n",
    "import matplotlib.pyplot as plt\n",
    "plt.scatter(x_values,y_values)\n",
    "plt.show()"
   ]
  },
  {
   "cell_type": "code",
   "execution_count": 14,
   "metadata": {},
   "outputs": [
    {
     "data": {
      "image/png": "[encoded data removed]",
      "text/plain": [
       "<Figure size 432x288 with 1 Axes>"
      ]
     },
     "metadata": {
      "needs_background": "light"
     },
     "output_type": "display_data"
    }
   ],
   "source": [
    "#2-b. 클러스터의 초기 개수 설정\n",
    "n_cluster=2 #클러스터의 초기 개수\n",
    "\n",
    "#n_cluster개의 초기 중심값 선정\n",
    "center_x=[]\n",
    "center_y=[]\n",
    "\n",
    "for i in range(n_cluster):\n",
    "    cx=randint(0,30)\n",
    "    cy=randint(0,30)\n",
    "    \n",
    "    center_x.append(cx)\n",
    "    center_y.append(cy)\n",
    "\n",
    "plt.scatter(x_values,y_values)\n",
    "plt.scatter(center_x,center_y, c='red',marker='x')\n",
    "plt.show()\n"
   ]
  },
  {
   "cell_type": "code",
   "execution_count": 17,
   "metadata": {},
   "outputs": [
    {
     "data": {
      "image/png": "[encoded data removed]",
      "text/plain": [
       "<Figure size 432x288 with 1 Axes>"
      ]
     },
     "metadata": {
      "needs_background": "light"
     },
     "output_type": "display_data"
    }
   ],
   "source": [
    "#2-c. 데이터들을 중심값에서 가장 가까운 중심값으로 클러스터\n",
    "cluster=[[[],[]] for i in range(n_cluster)]\n",
    "\n",
    "for i in range(n):\n",
    "    cluster_num=-1 #배정되는 클러스터\n",
    "    min_d=float(\"inf\") #가장 가까운 거리\n",
    "    \n",
    "    for c in range(n_cluster):\n",
    "        #(루트 생략)\n",
    "        distance=abs(x_values[i]-center_x[c])**2+abs(y_values[i]-center_y[c])**2\n",
    "        \n",
    "        if min_d>distance:\n",
    "            min_d=distance\n",
    "            cluster_num=c\n",
    "        \n",
    "    #클러스터 배정\n",
    "    cluster[cluster_num][0].append(x_values[i])\n",
    "    cluster[cluster_num][1].append(y_values[i])\n",
    "\n",
    "    \n",
    "color=['#1f77b4', '#ff7f0e', '#2ca02c', '#d62728', '#9467bd', '#8c564b', '#e377c2', '#7f7f7f', '#bcbd22', '#17becf']    \n",
    "for c in range(n_cluster):\n",
    "    plt.scatter(cluster[c][0],cluster[c][1],c=color[c])\n",
    "plt.scatter(center_x,center_y, c='red',marker='x')\n",
    "plt.show()\n",
    "    "
   ]
  },
  {
   "cell_type": "code",
   "execution_count": 18,
   "metadata": {},
   "outputs": [
    {
     "data": {
      "image/png": "[encoded data removed]",
      "text/plain": [
       "<Figure size 432x288 with 1 Axes>"
      ]
     },
     "metadata": {
      "needs_background": "light"
     },
     "output_type": "display_data"
    }
   ],
   "source": [
    "#2-d. 같은 클러스터내 데이터들의 평균값으로 중심값 재조정\n",
    "for c in range(n_cluster):\n",
    "    center_x[c]=sum(cluster[c][0])//len(cluster[c][0])\n",
    "    center_y[c]=sum(cluster[c][1])//len(cluster[c][1])\n",
    "    \n",
    "for c in range(n_cluster):\n",
    "    plt.scatter(cluster[c][0],cluster[c][1],c=color[c])\n",
    "plt.scatter(center_x,center_y, c='red',marker='x')\n",
    "plt.show()"
   ]
  },
  {
   "cell_type": "code",
   "execution_count": 20,
   "metadata": {},
   "outputs": [],
   "source": [
    "#2-e,r. (c)부터 반복하면서 더 이상 중심값 이동이 없을 경우 중단\n",
    "while True:\n",
    "    move=0\n",
    "    \n",
    "    #2-c. 데이터들을 중심값에서 가장 가까운 중심값으로 클러스터\n",
    "    cluster=[[[],[]] for i in range(n_cluster)]\n",
    "\n",
    "    for i in range(n):\n",
    "        cluster_num=-1 #배정되는 클러스터\n",
    "        min_d=float(\"inf\") #가장 가까운 거리\n",
    "\n",
    "        for c in range(n_cluster):\n",
    "            #(루트 생략)\n",
    "            distance=abs(x_values[i]-center_x[c])**2+abs(y_values[i]-center_y[c])**2\n",
    "\n",
    "            if min_d>distance:\n",
    "                min_d=distance\n",
    "                cluster_num=c\n",
    "\n",
    "        #클러스터 배정\n",
    "        cluster[cluster_num][0].append(x_values[i])\n",
    "        cluster[cluster_num][1].append(y_values[i])\n",
    "    \n",
    "    #2-d. 같은 클러스터내 데이터들의 평균값으로 중심값 재조정\n",
    "    for c in range(n_cluster):\n",
    "        ncenter_x=sum(cluster[c][0])//len(cluster[c][0])\n",
    "        ncenter_y=sum(cluster[c][1])//len(cluster[c][1])\n",
    "    \n",
    "        if ncenter_x!=center_x[c] or ncenter_y!=center_y[c]:\n",
    "            move=1\n",
    "            center_x[c]=ncenter_x\n",
    "            center_y[c]=ncenter_y\n",
    "    \n",
    "    #더 이상의 중심값 이동 없는 경우 중단\n",
    "    if move==0:\n",
    "        break"
   ]
  },
  {
   "cell_type": "code",
   "execution_count": 21,
   "metadata": {},
   "outputs": [
    {
     "data": {
      "image/png": "[encoded data removed]",
      "text/plain": [
       "<Figure size 432x288 with 1 Axes>"
      ]
     },
     "metadata": {
      "needs_background": "light"
     },
     "output_type": "display_data"
    }
   ],
   "source": [
    "for c in range(n_cluster):\n",
    "    plt.scatter(cluster[c][0],cluster[c][1],c=color[c])\n",
    "plt.scatter(center_x,center_y, c='red',marker='x')\n",
    "plt.show()"
   ]
  }
 ],
 "metadata": {
  "kernelspec": {
   "display_name": "Python 3",
   "language": "python",
   "name": "python3"
  },
  "language_info": {
   "codemirror_mode": {
    "name": "ipython",
    "version": 3
   },
   "file_extension": ".py",
   "mimetype": "text/x-python",
   "name": "python",
   "nbconvert_exporter": "python",
   "pygments_lexer": "ipython3",
   "version": "3.8.1"
  }
 },
 "nbformat": 4,
 "nbformat_minor": 4
}
